{
 "cells": [
  {
   "cell_type": "markdown",
   "metadata": {},
   "source": [
    "# Run HVV Detection"
   ]
  },
  {
   "cell_type": "code",
   "execution_count": 2,
   "metadata": {},
   "outputs": [],
   "source": [
    "from torch.utils.data import DataLoader, TensorDataset, SequentialSampler\n",
    "from datasets import Dataset, load_from_disk, concatenate_datasets\n",
    "from transformers import AutoTokenizer, AutoModelForSeq2SeqLM\n",
    "from tqdm import tqdm\n",
    "import torch\n",
    "import pickle\n",
    "import threading\n",
    "import time\n",
    "import copy"
   ]
  },
  {
   "cell_type": "markdown",
   "metadata": {},
   "source": [
    "## Load Dataset"
   ]
  },
  {
   "cell_type": "code",
   "execution_count": null,
   "metadata": {},
   "outputs": [],
   "source": [
    "dataset = load_from_disk('../data/input/articles_tokenized')\n",
    "print(\"Dataset length:\", len(dataset))"
   ]
  },
  {
   "cell_type": "markdown",
   "metadata": {},
   "source": [
    "## Split Dataset"
   ]
  },
  {
   "cell_type": "code",
   "execution_count": null,
   "metadata": {},
   "outputs": [],
   "source": [
    "def split_dataset(dataset: Dataset, split_ratio=0.5) -> (Dataset, Dataset):\n",
    "    \"\"\"Splits a dataset into two parts.\"\"\"\n",
    "    if not (0 <= split_ratio <= 1):\n",
    "        raise ValueError(\"split_ratio should be between 0 and 1.\")\n",
    "\n",
    "    split_point = int(len(dataset) * split_ratio)\n",
    "\n",
    "    # Split the dataset into two parts\n",
    "    first_half = Dataset.from_dict(dataset[:split_point])\n",
    "    second_half = Dataset.from_dict(dataset[split_point:])\n",
    "\n",
    "    return first_half, second_half"
   ]
  },
  {
   "cell_type": "code",
   "execution_count": null,
   "metadata": {},
   "outputs": [],
   "source": [
    "# Split the dataset into two halves (one for each GPU)\n",
    "dataset1, dataset2 = split_dataset(dataset)"
   ]
  },
  {
   "cell_type": "markdown",
   "metadata": {},
   "source": [
    "## Process Articles"
   ]
  },
  {
   "cell_type": "code",
   "execution_count": null,
   "metadata": {},
   "outputs": [],
   "source": [
    "def generate_predictions_from_dataset(id, dataset,  device):\n",
    "    # Load tokenizer and model for generation\n",
    "    tokenizer = AutoTokenizer.from_pretrained(\"google/flan-t5-base\")\n",
    "    model = AutoModelForSeq2SeqLM.from_pretrained(\"google/flan-t5-base\")\n",
    "    model.eval()\n",
    "    model.to(device)\n",
    "\n",
    "    print(\"Device:\", torch.cuda.get_device_name())\n",
    "\n",
    "    dataset_full = copy.copy(dataset)\n",
    "    dataset.set_format(type='torch', columns=[\n",
    "        'input_ids', 'attention_mask'])\n",
    "\n",
    "    # Create dataloader without explicit sampler for sequential loading\n",
    "    BATCH_SIZE = 192\n",
    "    dataloader = DataLoader(\n",
    "        dataset, batch_size=BATCH_SIZE, shuffle=False)\n",
    "\n",
    "    params = {'do_sample': True,\n",
    "              'early_stopping': False,\n",
    "              # 'max_length': 100,\n",
    "              # 'min_length': 1,\n",
    "              # 'num_beam_groups': 2,\n",
    "              # 'num_beams': 2,\n",
    "              # 'max_tokens': 32,\n",
    "              # 'min_tokens': 1,\n",
    "              # 'output_scores': False,\n",
    "              'repetition_penalty': 1.0,\n",
    "              # 'return_dict_in_generate': False,\n",
    "              'temperature': 1.0,\n",
    "              'top_k': 50,\n",
    "              'top_p': 1.0, }\n",
    "\n",
    "    # Make predictions\n",
    "    predictions = []\n",
    "\n",
    "    with torch.no_grad():\n",
    "        for batch in tqdm(dataloader, desc=\"Batches\"):\n",
    "            batch = {k: v.to(device) for k, v in batch.items()}\n",
    "\n",
    "            # Generate outputs\n",
    "            batch_outputs = model.generate(\n",
    "                input_ids=batch['input_ids'], attention_mask=batch['attention_mask'], **params, max_new_tokens=100)\n",
    "\n",
    "            # Decode and store predictions\n",
    "            decoded_outputs = [tokenizer.decode(\n",
    "                output_id, skip_special_tokens=True) for output_id in batch_outputs]\n",
    "            predictions.extend(decoded_outputs)\n",
    "\n",
    "    # results.extend(predictions)\n",
    "\n",
    "    # Ensure the new column has the same number of items as the dataset\n",
    "    assert len(dataset_full) == len(\n",
    "        predictions), \"The length of new_column_values must match the dataset's length\"\n",
    "\n",
    "    # Add new column\n",
    "    dataset_full = dataset_full.add_column('Answers', predictions)\n",
    "    dataset_full.save_to_disk('data/output/articles_processed_' + str(id))\n",
    "    # with open(\"data/output/articles_processed.pkl\" + device, \"wb\") as file:\n",
    "    #     pickle.dump(dataset_full, file)\n",
    "\n",
    "    return predictions"
   ]
  },
  {
   "cell_type": "code",
   "execution_count": null,
   "metadata": {},
   "outputs": [],
   "source": [
    "thread1 = threading.Thread(\n",
    "    target=generate_predictions_from_dataset, args=(0, dataset1, 'cuda:0'))\n",
    "thread2 = threading.Thread(\n",
    "    target=generate_predictions_from_dataset, args=(1, dataset2, 'cuda:1'))\n",
    "\n",
    "# Start threads\n",
    "thread1.start()\n",
    "thread2.start()\n",
    "\n",
    "# Wait for threads to finish\n",
    "thread1.join()\n",
    "thread2.join()"
   ]
  },
  {
   "cell_type": "markdown",
   "metadata": {},
   "source": [
    "## Collect and Merge Results from GPUs"
   ]
  },
  {
   "cell_type": "code",
   "execution_count": null,
   "metadata": {},
   "outputs": [],
   "source": [
    "results_1 = load_from_disk('../data/output/articles_processed_0')\n",
    "results_2 = load_from_disk('../data/output/articles_processed_1')\n",
    "merged_dataset = concatenate_datasets([results_1, results_2])\n",
    "merged_dataset.save_to_disk('../data/output/articles_processed')\n",
    "\n",
    "print(\"Processing on both GPUs completed!\")\n",
    "print(\"Results:\", len(merged_dataset))\n"
   ]
  }
 ],
 "metadata": {
  "kernelspec": {
   "display_name": "mediacloud",
   "language": "python",
   "name": "python3"
  },
  "language_info": {
   "codemirror_mode": {
    "name": "ipython",
    "version": 3
   },
   "file_extension": ".py",
   "mimetype": "text/x-python",
   "name": "python",
   "nbconvert_exporter": "python",
   "pygments_lexer": "ipython3",
   "version": "3.10.8"
  },
  "orig_nbformat": 4
 },
 "nbformat": 4,
 "nbformat_minor": 2
}
