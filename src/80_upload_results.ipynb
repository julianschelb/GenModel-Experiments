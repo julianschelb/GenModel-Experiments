{
 "cells": [
  {
   "cell_type": "markdown",
   "metadata": {},
   "source": [
    "# Upload Results to DB"
   ]
  },
  {
   "cell_type": "code",
   "execution_count": 1,
   "metadata": {},
   "outputs": [
    {
     "name": "stderr",
     "output_type": "stream",
     "text": [
      "/home/jschelb/.pyenv/versions/3.10.8/envs/mediacloud/lib/python3.10/site-packages/tqdm/auto.py:21: TqdmWarning: IProgress not found. Please update jupyter and ipywidgets. See https://ipywidgets.readthedocs.io/en/stable/user_install.html\n",
      "  from .autonotebook import tqdm as notebook_tqdm\n"
     ]
    }
   ],
   "source": [
    "from utils.preprocessing import *\n",
    "from utils.database import *\n",
    "from datasets import load_from_disk\n",
    "from tqdm import tqdm"
   ]
  },
  {
   "cell_type": "markdown",
   "metadata": {},
   "source": [
    "## Load Dataset"
   ]
  },
  {
   "cell_type": "code",
   "execution_count": 2,
   "metadata": {},
   "outputs": [],
   "source": [
    "dataset = load_from_disk('../data/output/articles_processed')"
   ]
  },
  {
   "cell_type": "code",
   "execution_count": 3,
   "metadata": {},
   "outputs": [
    {
     "name": "stderr",
     "output_type": "stream",
     "text": [
      "Map: 100%|██████████| 651/651 [00:00<00:00, 4919.38 examples/s]\n"
     ]
    }
   ],
   "source": [
    "dataset = dataset.map(lambda row: {'sort_key':\n",
    "                                   str(row['id']) + str(row['role']) +\n",
    "                                   str(row['chunk'])\n",
    "                                   })\n",
    "sorted_dataset = dataset.sort('sort_key')\n",
    "sorted_dataset = sorted_dataset.remove_columns('sort_key')\n"
   ]
  },
  {
   "cell_type": "markdown",
   "metadata": {},
   "source": [
    "## Connect to Database"
   ]
  },
  {
   "cell_type": "code",
   "execution_count": 4,
   "metadata": {},
   "outputs": [],
   "source": [
    "_, db = getConnection(use_dotenv=True)"
   ]
  },
  {
   "cell_type": "markdown",
   "metadata": {},
   "source": [
    "## Update Documents in Database"
   ]
  },
  {
   "cell_type": "code",
   "execution_count": 5,
   "metadata": {},
   "outputs": [
    {
     "name": "stderr",
     "output_type": "stream",
     "text": [
      "Uploading results: 100%|██████████| 50/50 [00:00<00:00, 108.08it/s]\n"
     ]
    }
   ],
   "source": [
    "def process_dataset(dataset):\n",
    "    # Initial processing results\n",
    "    processing_result = {\"hero\": [], \"villain\": [], \"victim\": []}\n",
    "    object_id_prev = None\n",
    "\n",
    "    for item in dataset:\n",
    "        object_id = item['id']\n",
    "        role = item['role']\n",
    "        answer = item['Answers']\n",
    "\n",
    "        # If the object_id changes, reset the processing_result\n",
    "        if object_id_prev is not None and object_id_prev != object_id:\n",
    "            yield object_id_prev, processing_result\n",
    "            processing_result = {\"hero\": [], \"villain\": [], \"victim\": []}\n",
    "\n",
    "        processing_result[role].append(answer)\n",
    "        object_id_prev = object_id\n",
    "\n",
    "    # Yield the final processing_result if any\n",
    "    if processing_result[\"hero\"] or processing_result[\"villain\"] or processing_result[\"victim\"]:\n",
    "        yield object_id_prev, processing_result\n",
    "\n",
    "\n",
    "# Assuming `ds` is your dataset object\n",
    "unique_ids = set(dataset[\"id\"])\n",
    "\n",
    "# Count of unique ids\n",
    "count_unique_ids = len(unique_ids)\n",
    "# print(count_unique_ids)\n",
    "\n",
    "for object_id, result in tqdm(process_dataset(dataset), total=count_unique_ids, desc=\"Uploading results\"):\n",
    "    updateProcessingResults(db, object_id, {\"processing_result\": result})"
   ]
  }
 ],
 "metadata": {
  "kernelspec": {
   "display_name": "mediacloud",
   "language": "python",
   "name": "python3"
  },
  "language_info": {
   "codemirror_mode": {
    "name": "ipython",
    "version": 3
   },
   "file_extension": ".py",
   "mimetype": "text/x-python",
   "name": "python",
   "nbconvert_exporter": "python",
   "pygments_lexer": "ipython3",
   "version": "3.10.8"
  },
  "orig_nbformat": 4
 },
 "nbformat": 4,
 "nbformat_minor": 2
}
